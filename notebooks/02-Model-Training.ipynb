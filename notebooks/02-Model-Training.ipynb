{
 "cells": [
  {
   "cell_type": "markdown",
   "id": "76b97c48-1ef4-44c6-8a8e-5d0aa91e6367",
   "metadata": {},
   "source": [
    "# Fase 2: Treinamento do Modelo de Deep Learning\n",
    "\n",
    "Neste notebook, vamos usar os dados preparados na Fase 1 para construir e treinar um modelo de Rede Neural Recorrente (LSTM) para prever os movimentos do mercado.\n"
   ]
  },
  {
   "cell_type": "code",
   "execution_count": 16,
   "id": "fe48ed6b-474f-403e-a98f-f8dfc51897d8",
   "metadata": {},
   "outputs": [
    {
     "name": "stdout",
     "output_type": "stream",
     "text": [
      "Bibliotecas da Fase 2 importadas com sucesso!\n",
      "TensorFlow versão: 2.16.2\n"
     ]
    }
   ],
   "source": [
    "# CÉLULA 1: Importar Bibliotecas\n",
    "\n",
    "import pandas as pd\n",
    "import numpy as np\n",
    "from sklearn.model_selection import train_test_split\n",
    "from sklearn.preprocessing import StandardScaler\n",
    "import tensorflow as tf\n",
    "from tensorflow.keras.models import Sequential\n",
    "from tensorflow.keras.layers import LSTM, Dense, Dropout\n",
    "\n",
    "print(\"Bibliotecas da Fase 2 importadas com sucesso!\")\n",
    "print(f\"TensorFlow versão: {tf.__version__}\")\n",
    "from tensorflow.keras.callbacks import EarlyStopping\n"
   ]
  },
  {
   "cell_type": "code",
   "execution_count": 2,
   "id": "d7f5295a-4872-4316-832c-3bebdf829de9",
   "metadata": {},
   "outputs": [
    {
     "name": "stdout",
     "output_type": "stream",
     "text": [
      "Dados processados carregados com sucesso!\n",
      "Shape do dataframe: (1777, 18)\n"
     ]
    },
    {
     "data": {
      "text/html": [
       "<div>\n",
       "<style scoped>\n",
       "    .dataframe tbody tr th:only-of-type {\n",
       "        vertical-align: middle;\n",
       "    }\n",
       "\n",
       "    .dataframe tbody tr th {\n",
       "        vertical-align: top;\n",
       "    }\n",
       "\n",
       "    .dataframe thead th {\n",
       "        text-align: right;\n",
       "    }\n",
       "</style>\n",
       "<table border=\"1\" class=\"dataframe\">\n",
       "  <thead>\n",
       "    <tr style=\"text-align: right;\">\n",
       "      <th></th>\n",
       "      <th>open</th>\n",
       "      <th>high</th>\n",
       "      <th>low</th>\n",
       "      <th>close</th>\n",
       "      <th>volume</th>\n",
       "      <th>daily_return</th>\n",
       "      <th>sma_20</th>\n",
       "      <th>ema_20</th>\n",
       "      <th>rsi_14</th>\n",
       "      <th>bollinger_upper</th>\n",
       "      <th>bollinger_lower</th>\n",
       "      <th>macd</th>\n",
       "      <th>macd_signal</th>\n",
       "      <th>day_of_week</th>\n",
       "      <th>day_of_month</th>\n",
       "      <th>week_of_year</th>\n",
       "      <th>month</th>\n",
       "      <th>label</th>\n",
       "    </tr>\n",
       "    <tr>\n",
       "      <th>date</th>\n",
       "      <th></th>\n",
       "      <th></th>\n",
       "      <th></th>\n",
       "      <th></th>\n",
       "      <th></th>\n",
       "      <th></th>\n",
       "      <th></th>\n",
       "      <th></th>\n",
       "      <th></th>\n",
       "      <th></th>\n",
       "      <th></th>\n",
       "      <th></th>\n",
       "      <th></th>\n",
       "      <th></th>\n",
       "      <th></th>\n",
       "      <th></th>\n",
       "      <th></th>\n",
       "      <th></th>\n",
       "    </tr>\n",
       "  </thead>\n",
       "  <tbody>\n",
       "    <tr>\n",
       "      <th>2020-10-28 00:00:00+00:00</th>\n",
       "      <td>13636.16</td>\n",
       "      <td>13859.48</td>\n",
       "      <td>12888.00</td>\n",
       "      <td>13266.4</td>\n",
       "      <td>94440.561226</td>\n",
       "      <td>-0.027117</td>\n",
       "      <td>12109.8345</td>\n",
       "      <td>12301.793133</td>\n",
       "      <td>78.736145</td>\n",
       "      <td>13824.876220</td>\n",
       "      <td>10394.792780</td>\n",
       "      <td>572.657340</td>\n",
       "      <td>427.293139</td>\n",
       "      <td>2</td>\n",
       "      <td>28</td>\n",
       "      <td>44.0</td>\n",
       "      <td>10.0</td>\n",
       "      <td>-1</td>\n",
       "    </tr>\n",
       "    <tr>\n",
       "      <th>2020-10-29 00:00:00+00:00</th>\n",
       "      <td>13266.40</td>\n",
       "      <td>13642.91</td>\n",
       "      <td>12920.77</td>\n",
       "      <td>13455.7</td>\n",
       "      <td>74872.602132</td>\n",
       "      <td>0.014269</td>\n",
       "      <td>12230.0875</td>\n",
       "      <td>12411.689025</td>\n",
       "      <td>79.390192</td>\n",
       "      <td>13969.521392</td>\n",
       "      <td>10490.653608</td>\n",
       "      <td>588.589709</td>\n",
       "      <td>459.552453</td>\n",
       "      <td>3</td>\n",
       "      <td>29</td>\n",
       "      <td>44.0</td>\n",
       "      <td>10.0</td>\n",
       "      <td>-1</td>\n",
       "    </tr>\n",
       "    <tr>\n",
       "      <th>2020-10-30 00:00:00+00:00</th>\n",
       "      <td>13455.69</td>\n",
       "      <td>13669.98</td>\n",
       "      <td>13115.00</td>\n",
       "      <td>13560.1</td>\n",
       "      <td>70657.778881</td>\n",
       "      <td>0.007759</td>\n",
       "      <td>12343.4315</td>\n",
       "      <td>12521.061499</td>\n",
       "      <td>84.611773</td>\n",
       "      <td>14120.834635</td>\n",
       "      <td>10566.028365</td>\n",
       "      <td>602.692965</td>\n",
       "      <td>488.180556</td>\n",
       "      <td>4</td>\n",
       "      <td>30</td>\n",
       "      <td>44.0</td>\n",
       "      <td>10.0</td>\n",
       "      <td>-1</td>\n",
       "    </tr>\n",
       "    <tr>\n",
       "      <th>2020-10-31 00:00:00+00:00</th>\n",
       "      <td>13560.10</td>\n",
       "      <td>14100.00</td>\n",
       "      <td>13411.50</td>\n",
       "      <td>13791.0</td>\n",
       "      <td>67339.238515</td>\n",
       "      <td>0.017028</td>\n",
       "      <td>12464.5305</td>\n",
       "      <td>12642.008023</td>\n",
       "      <td>85.465008</td>\n",
       "      <td>14291.734086</td>\n",
       "      <td>10637.326914</td>\n",
       "      <td>625.293602</td>\n",
       "      <td>515.603165</td>\n",
       "      <td>5</td>\n",
       "      <td>31</td>\n",
       "      <td>44.0</td>\n",
       "      <td>10.0</td>\n",
       "      <td>-1</td>\n",
       "    </tr>\n",
       "    <tr>\n",
       "      <th>2020-11-01 00:00:00+00:00</th>\n",
       "      <td>13791.00</td>\n",
       "      <td>13895.00</td>\n",
       "      <td>13603.00</td>\n",
       "      <td>13761.5</td>\n",
       "      <td>36285.648526</td>\n",
       "      <td>-0.002139</td>\n",
       "      <td>12576.1930</td>\n",
       "      <td>12748.626306</td>\n",
       "      <td>84.077137</td>\n",
       "      <td>14435.159035</td>\n",
       "      <td>10717.226965</td>\n",
       "      <td>633.521524</td>\n",
       "      <td>539.186837</td>\n",
       "      <td>6</td>\n",
       "      <td>1</td>\n",
       "      <td>44.0</td>\n",
       "      <td>11.0</td>\n",
       "      <td>-1</td>\n",
       "    </tr>\n",
       "  </tbody>\n",
       "</table>\n",
       "</div>"
      ],
      "text/plain": [
       "                               open      high       low    close  \\\n",
       "date                                                               \n",
       "2020-10-28 00:00:00+00:00  13636.16  13859.48  12888.00  13266.4   \n",
       "2020-10-29 00:00:00+00:00  13266.40  13642.91  12920.77  13455.7   \n",
       "2020-10-30 00:00:00+00:00  13455.69  13669.98  13115.00  13560.1   \n",
       "2020-10-31 00:00:00+00:00  13560.10  14100.00  13411.50  13791.0   \n",
       "2020-11-01 00:00:00+00:00  13791.00  13895.00  13603.00  13761.5   \n",
       "\n",
       "                                 volume  daily_return      sma_20  \\\n",
       "date                                                                \n",
       "2020-10-28 00:00:00+00:00  94440.561226     -0.027117  12109.8345   \n",
       "2020-10-29 00:00:00+00:00  74872.602132      0.014269  12230.0875   \n",
       "2020-10-30 00:00:00+00:00  70657.778881      0.007759  12343.4315   \n",
       "2020-10-31 00:00:00+00:00  67339.238515      0.017028  12464.5305   \n",
       "2020-11-01 00:00:00+00:00  36285.648526     -0.002139  12576.1930   \n",
       "\n",
       "                                 ema_20     rsi_14  bollinger_upper  \\\n",
       "date                                                                  \n",
       "2020-10-28 00:00:00+00:00  12301.793133  78.736145     13824.876220   \n",
       "2020-10-29 00:00:00+00:00  12411.689025  79.390192     13969.521392   \n",
       "2020-10-30 00:00:00+00:00  12521.061499  84.611773     14120.834635   \n",
       "2020-10-31 00:00:00+00:00  12642.008023  85.465008     14291.734086   \n",
       "2020-11-01 00:00:00+00:00  12748.626306  84.077137     14435.159035   \n",
       "\n",
       "                           bollinger_lower        macd  macd_signal  \\\n",
       "date                                                                  \n",
       "2020-10-28 00:00:00+00:00     10394.792780  572.657340   427.293139   \n",
       "2020-10-29 00:00:00+00:00     10490.653608  588.589709   459.552453   \n",
       "2020-10-30 00:00:00+00:00     10566.028365  602.692965   488.180556   \n",
       "2020-10-31 00:00:00+00:00     10637.326914  625.293602   515.603165   \n",
       "2020-11-01 00:00:00+00:00     10717.226965  633.521524   539.186837   \n",
       "\n",
       "                           day_of_week  day_of_month  week_of_year  month  \\\n",
       "date                                                                        \n",
       "2020-10-28 00:00:00+00:00            2            28          44.0   10.0   \n",
       "2020-10-29 00:00:00+00:00            3            29          44.0   10.0   \n",
       "2020-10-30 00:00:00+00:00            4            30          44.0   10.0   \n",
       "2020-10-31 00:00:00+00:00            5            31          44.0   10.0   \n",
       "2020-11-01 00:00:00+00:00            6             1          44.0   11.0   \n",
       "\n",
       "                           label  \n",
       "date                              \n",
       "2020-10-28 00:00:00+00:00     -1  \n",
       "2020-10-29 00:00:00+00:00     -1  \n",
       "2020-10-30 00:00:00+00:00     -1  \n",
       "2020-10-31 00:00:00+00:00     -1  \n",
       "2020-11-01 00:00:00+00:00     -1  "
      ]
     },
     "metadata": {},
     "output_type": "display_data"
    }
   ],
   "source": [
    "# CÉLULA 2 (CORRIGIDA): Carregar os dados processados\n",
    "\n",
    "# Caminho correto para o ficheiro\n",
    "processed_data_path = '../data/processed/final_btc_features.feather'\n",
    "\n",
    "# Carregar os dados\n",
    "try:\n",
    "    df = pd.read_feather(processed_data_path)\n",
    "    print(\"Dados processados carregados com sucesso!\")\n",
    "    print(f\"Shape do dataframe: {df.shape}\")\n",
    "    display(df.head())\n",
    "    \n",
    "except FileNotFoundError:\n",
    "    print(f\"ERRO: Ficheiro não encontrado em '{processed_data_path}'\")\n",
    "    print(\"Certifique-se de que executou a célula para guardar os dados no notebook 01.\")\n"
   ]
  },
  {
   "cell_type": "code",
   "execution_count": 3,
   "id": "0070e28e-f554-4881-ac7e-ae3276b91939",
   "metadata": {},
   "outputs": [
    {
     "name": "stdout",
     "output_type": "stream",
     "text": [
      "Features (X) e Alvo (y) separados com sucesso.\n",
      "Shape de X: (1777, 13)\n",
      "Shape de y: (1777,)\n"
     ]
    }
   ],
   "source": [
    "# CÉLULA 3: Separar Features (X) e Alvo (y)\n",
    "\n",
    "# 'y' é a nossa coluna alvo (o que queremos prever)\n",
    "y = df['label']\n",
    "\n",
    "# 'X' são todas as outras colunas que usaremos como features.\n",
    "# Removemos o alvo e também as colunas de preço originais,\n",
    "# pois já temos features melhores (retornos, indicadores, etc.).\n",
    "X = df.drop(columns=['label', 'open', 'high', 'low', 'close'])\n",
    "\n",
    "print(\"Features (X) e Alvo (y) separados com sucesso.\")\n",
    "print(f\"Shape de X: {X.shape}\")\n",
    "print(f\"Shape de y: {y.shape}\")\n"
   ]
  },
  {
   "cell_type": "code",
   "execution_count": 4,
   "id": "bdd25596-3c76-43fe-b613-fd6d07800916",
   "metadata": {},
   "outputs": [
    {
     "name": "stdout",
     "output_type": "stream",
     "text": [
      "Dados divididos em treino e teste.\n",
      "Shape de X_train: (1421, 13)\n",
      "Shape de X_test: (356, 13)\n"
     ]
    }
   ],
   "source": [
    "# CÉLULA 4: Dividir em Conjuntos de Treino e Teste\n",
    "\n",
    "# Dividir os dados. Usamos shuffle=False porque em séries temporais, a ordem importa.\n",
    "# Queremos treinar com o passado e testar com o futuro.\n",
    "X_train, X_test, y_train, y_test = train_test_split(\n",
    "    X, y, test_size=0.2, shuffle=False\n",
    ")\n",
    "\n",
    "print(\"Dados divididos em treino e teste.\")\n",
    "print(f\"Shape de X_train: {X_train.shape}\")\n",
    "print(f\"Shape de X_test: {X_test.shape}\")\n"
   ]
  },
  {
   "cell_type": "code",
   "execution_count": 5,
   "id": "eff4a7e5-c809-45ef-b9ad-6474a459a370",
   "metadata": {},
   "outputs": [
    {
     "name": "stdout",
     "output_type": "stream",
     "text": [
      "Features normalizadas com sucesso.\n"
     ]
    }
   ],
   "source": [
    "# CÉLULA 5: Normalizar as Features\n",
    "\n",
    "# Criar o normalizador\n",
    "scaler = StandardScaler()\n",
    "\n",
    "# Aprender a escala a partir dos dados de TREINO e aplicá-la\n",
    "X_train_scaled = scaler.fit_transform(X_train)\n",
    "\n",
    "# Aplicar a MESMA escala aprendida aos dados de TESTE\n",
    "X_test_scaled = scaler.transform(X_test)\n",
    "\n",
    "print(\"Features normalizadas com sucesso.\")\n"
   ]
  },
  {
   "cell_type": "code",
   "execution_count": 6,
   "id": "78d7a210-05b3-43df-a9cb-33d3afda6458",
   "metadata": {},
   "outputs": [
    {
     "name": "stdout",
     "output_type": "stream",
     "text": [
      "Dados transformados em sequências.\n",
      "Shape de X_train_seq: (1361, 60, 13)\n"
     ]
    }
   ],
   "source": [
    "# CÉLULA 6: Criar sequências para a LSTM\n",
    "\n",
    "def create_sequences(X, y, time_steps=60):\n",
    "    Xs, ys = [], []\n",
    "    for i in range(len(X) - time_steps):\n",
    "        Xs.append(X[i:(i + time_steps)])\n",
    "        ys.append(y[i + time_steps])\n",
    "    return np.array(Xs), np.array(ys)\n",
    "\n",
    "# Definir o número de passos no tempo (quantas velas passadas o modelo vai olhar)\n",
    "TIME_STEPS = 60\n",
    "\n",
    "# Criar as sequências\n",
    "X_train_seq, y_train_seq = create_sequences(X_train_scaled, y_train.values, TIME_STEPS)\n",
    "X_test_seq, y_test_seq = create_sequences(X_test_scaled, y_test.values, TIME_STEPS)\n",
    "\n",
    "print(\"Dados transformados em sequências.\")\n",
    "print(f\"Shape de X_train_seq: {X_train_seq.shape}\")\n"
   ]
  },
  {
   "cell_type": "code",
   "execution_count": 7,
   "id": "ce2cb4a4-3ca5-4550-af5a-f10eea2e7972",
   "metadata": {},
   "outputs": [
    {
     "name": "stderr",
     "output_type": "stream",
     "text": [
      "2025-09-20 14:38:04.599337: I metal_plugin/src/device/metal_device.cc:1154] Metal device set to: Apple M3\n",
      "2025-09-20 14:38:04.599367: I metal_plugin/src/device/metal_device.cc:296] systemMemory: 8.00 GB\n",
      "2025-09-20 14:38:04.599370: I metal_plugin/src/device/metal_device.cc:313] maxCacheSize: 2.67 GB\n",
      "2025-09-20 14:38:04.599546: I tensorflow/core/common_runtime/pluggable_device/pluggable_device_factory.cc:305] Could not identify NUMA node of platform GPU ID 0, defaulting to 0. Your kernel may not have been built with NUMA support.\n",
      "2025-09-20 14:38:04.599556: I tensorflow/core/common_runtime/pluggable_device/pluggable_device_factory.cc:271] Created TensorFlow device (/job:localhost/replica:0/task:0/device:GPU:0 with 0 MB memory) -> physical PluggableDevice (device: 0, name: METAL, pci bus id: <undefined>)\n",
      "/Users/marianobernini/miniconda/envs/botenv/lib/python3.12/site-packages/keras/src/layers/rnn/rnn.py:199: UserWarning: Do not pass an `input_shape`/`input_dim` argument to a layer. When using Sequential models, prefer using an `Input(shape)` object as the first layer in the model instead.\n",
      "  super().__init__(**kwargs)\n"
     ]
    },
    {
     "data": {
      "text/html": [
       "<pre style=\"white-space:pre;overflow-x:auto;line-height:normal;font-family:Menlo,'DejaVu Sans Mono',consolas,'Courier New',monospace\"><span style=\"font-weight: bold\">Model: \"sequential\"</span>\n",
       "</pre>\n"
      ],
      "text/plain": [
       "\u001b[1mModel: \"sequential\"\u001b[0m\n"
      ]
     },
     "metadata": {},
     "output_type": "display_data"
    },
    {
     "data": {
      "text/html": [
       "<pre style=\"white-space:pre;overflow-x:auto;line-height:normal;font-family:Menlo,'DejaVu Sans Mono',consolas,'Courier New',monospace\">┏━━━━━━━━━━━━━━━━━━━━━━━━━━━━━━━━━┳━━━━━━━━━━━━━━━━━━━━━━━━┳━━━━━━━━━━━━━━━┓\n",
       "┃<span style=\"font-weight: bold\"> Layer (type)                    </span>┃<span style=\"font-weight: bold\"> Output Shape           </span>┃<span style=\"font-weight: bold\">       Param # </span>┃\n",
       "┡━━━━━━━━━━━━━━━━━━━━━━━━━━━━━━━━━╇━━━━━━━━━━━━━━━━━━━━━━━━╇━━━━━━━━━━━━━━━┩\n",
       "│ lstm (<span style=\"color: #0087ff; text-decoration-color: #0087ff\">LSTM</span>)                     │ (<span style=\"color: #00d7ff; text-decoration-color: #00d7ff\">None</span>, <span style=\"color: #00af00; text-decoration-color: #00af00\">60</span>, <span style=\"color: #00af00; text-decoration-color: #00af00\">50</span>)         │        <span style=\"color: #00af00; text-decoration-color: #00af00\">12,800</span> │\n",
       "├─────────────────────────────────┼────────────────────────┼───────────────┤\n",
       "│ dropout (<span style=\"color: #0087ff; text-decoration-color: #0087ff\">Dropout</span>)               │ (<span style=\"color: #00d7ff; text-decoration-color: #00d7ff\">None</span>, <span style=\"color: #00af00; text-decoration-color: #00af00\">60</span>, <span style=\"color: #00af00; text-decoration-color: #00af00\">50</span>)         │             <span style=\"color: #00af00; text-decoration-color: #00af00\">0</span> │\n",
       "├─────────────────────────────────┼────────────────────────┼───────────────┤\n",
       "│ lstm_1 (<span style=\"color: #0087ff; text-decoration-color: #0087ff\">LSTM</span>)                   │ (<span style=\"color: #00d7ff; text-decoration-color: #00d7ff\">None</span>, <span style=\"color: #00af00; text-decoration-color: #00af00\">50</span>)             │        <span style=\"color: #00af00; text-decoration-color: #00af00\">20,200</span> │\n",
       "├─────────────────────────────────┼────────────────────────┼───────────────┤\n",
       "│ dropout_1 (<span style=\"color: #0087ff; text-decoration-color: #0087ff\">Dropout</span>)             │ (<span style=\"color: #00d7ff; text-decoration-color: #00d7ff\">None</span>, <span style=\"color: #00af00; text-decoration-color: #00af00\">50</span>)             │             <span style=\"color: #00af00; text-decoration-color: #00af00\">0</span> │\n",
       "├─────────────────────────────────┼────────────────────────┼───────────────┤\n",
       "│ dense (<span style=\"color: #0087ff; text-decoration-color: #0087ff\">Dense</span>)                   │ (<span style=\"color: #00d7ff; text-decoration-color: #00d7ff\">None</span>, <span style=\"color: #00af00; text-decoration-color: #00af00\">3</span>)              │           <span style=\"color: #00af00; text-decoration-color: #00af00\">153</span> │\n",
       "└─────────────────────────────────┴────────────────────────┴───────────────┘\n",
       "</pre>\n"
      ],
      "text/plain": [
       "┏━━━━━━━━━━━━━━━━━━━━━━━━━━━━━━━━━┳━━━━━━━━━━━━━━━━━━━━━━━━┳━━━━━━━━━━━━━━━┓\n",
       "┃\u001b[1m \u001b[0m\u001b[1mLayer (type)                   \u001b[0m\u001b[1m \u001b[0m┃\u001b[1m \u001b[0m\u001b[1mOutput Shape          \u001b[0m\u001b[1m \u001b[0m┃\u001b[1m \u001b[0m\u001b[1m      Param #\u001b[0m\u001b[1m \u001b[0m┃\n",
       "┡━━━━━━━━━━━━━━━━━━━━━━━━━━━━━━━━━╇━━━━━━━━━━━━━━━━━━━━━━━━╇━━━━━━━━━━━━━━━┩\n",
       "│ lstm (\u001b[38;5;33mLSTM\u001b[0m)                     │ (\u001b[38;5;45mNone\u001b[0m, \u001b[38;5;34m60\u001b[0m, \u001b[38;5;34m50\u001b[0m)         │        \u001b[38;5;34m12,800\u001b[0m │\n",
       "├─────────────────────────────────┼────────────────────────┼───────────────┤\n",
       "│ dropout (\u001b[38;5;33mDropout\u001b[0m)               │ (\u001b[38;5;45mNone\u001b[0m, \u001b[38;5;34m60\u001b[0m, \u001b[38;5;34m50\u001b[0m)         │             \u001b[38;5;34m0\u001b[0m │\n",
       "├─────────────────────────────────┼────────────────────────┼───────────────┤\n",
       "│ lstm_1 (\u001b[38;5;33mLSTM\u001b[0m)                   │ (\u001b[38;5;45mNone\u001b[0m, \u001b[38;5;34m50\u001b[0m)             │        \u001b[38;5;34m20,200\u001b[0m │\n",
       "├─────────────────────────────────┼────────────────────────┼───────────────┤\n",
       "│ dropout_1 (\u001b[38;5;33mDropout\u001b[0m)             │ (\u001b[38;5;45mNone\u001b[0m, \u001b[38;5;34m50\u001b[0m)             │             \u001b[38;5;34m0\u001b[0m │\n",
       "├─────────────────────────────────┼────────────────────────┼───────────────┤\n",
       "│ dense (\u001b[38;5;33mDense\u001b[0m)                   │ (\u001b[38;5;45mNone\u001b[0m, \u001b[38;5;34m3\u001b[0m)              │           \u001b[38;5;34m153\u001b[0m │\n",
       "└─────────────────────────────────┴────────────────────────┴───────────────┘\n"
      ]
     },
     "metadata": {},
     "output_type": "display_data"
    },
    {
     "data": {
      "text/html": [
       "<pre style=\"white-space:pre;overflow-x:auto;line-height:normal;font-family:Menlo,'DejaVu Sans Mono',consolas,'Courier New',monospace\"><span style=\"font-weight: bold\"> Total params: </span><span style=\"color: #00af00; text-decoration-color: #00af00\">33,153</span> (129.50 KB)\n",
       "</pre>\n"
      ],
      "text/plain": [
       "\u001b[1m Total params: \u001b[0m\u001b[38;5;34m33,153\u001b[0m (129.50 KB)\n"
      ]
     },
     "metadata": {},
     "output_type": "display_data"
    },
    {
     "data": {
      "text/html": [
       "<pre style=\"white-space:pre;overflow-x:auto;line-height:normal;font-family:Menlo,'DejaVu Sans Mono',consolas,'Courier New',monospace\"><span style=\"font-weight: bold\"> Trainable params: </span><span style=\"color: #00af00; text-decoration-color: #00af00\">33,153</span> (129.50 KB)\n",
       "</pre>\n"
      ],
      "text/plain": [
       "\u001b[1m Trainable params: \u001b[0m\u001b[38;5;34m33,153\u001b[0m (129.50 KB)\n"
      ]
     },
     "metadata": {},
     "output_type": "display_data"
    },
    {
     "data": {
      "text/html": [
       "<pre style=\"white-space:pre;overflow-x:auto;line-height:normal;font-family:Menlo,'DejaVu Sans Mono',consolas,'Courier New',monospace\"><span style=\"font-weight: bold\"> Non-trainable params: </span><span style=\"color: #00af00; text-decoration-color: #00af00\">0</span> (0.00 B)\n",
       "</pre>\n"
      ],
      "text/plain": [
       "\u001b[1m Non-trainable params: \u001b[0m\u001b[38;5;34m0\u001b[0m (0.00 B)\n"
      ]
     },
     "metadata": {},
     "output_type": "display_data"
    }
   ],
   "source": [
    "# CÉLULA 7: Construir o modelo LSTM\n",
    "\n",
    "model = Sequential()\n",
    "\n",
    "# Camada LSTM 1\n",
    "model.add(LSTM(units=50, return_sequences=True, input_shape=(X_train_seq.shape[1], X_train_seq.shape[2])))\n",
    "model.add(Dropout(0.2))\n",
    "\n",
    "# Camada LSTM 2\n",
    "model.add(LSTM(units=50, return_sequences=False))\n",
    "model.add(Dropout(0.2))\n",
    "\n",
    "# Camada Densa de Saída\n",
    "# Usamos 3 unidades porque temos 3 classes (Comprar, Vender, Neutro)\n",
    "# A função de ativação 'softmax' dá-nos a probabilidade para cada classe\n",
    "model.add(Dense(units=3, activation='softmax'))\n",
    "\n",
    "# Compilar o modelo\n",
    "model.compile(optimizer='adam', loss='sparse_categorical_crossentropy', metrics=['accuracy'])\n",
    "\n",
    "# Mostrar um resumo da arquitetura\n",
    "model.summary()\n"
   ]
  },
  {
   "cell_type": "code",
   "execution_count": 12,
   "id": "6d05846d-2c8d-4a31-b548-364de972f918",
   "metadata": {},
   "outputs": [
    {
     "name": "stdout",
     "output_type": "stream",
     "text": [
      "Epoch 1/100\n",
      "\u001b[1m39/39\u001b[0m \u001b[32m━━━━━━━━━━━━━━━━━━━━\u001b[0m\u001b[37m\u001b[0m \u001b[1m1s\u001b[0m 18ms/step - accuracy: 0.8145 - loss: 0.4089 - val_accuracy: 0.7226 - val_loss: 0.6743\n",
      "Epoch 2/100\n",
      "\u001b[1m39/39\u001b[0m \u001b[32m━━━━━━━━━━━━━━━━━━━━\u001b[0m\u001b[37m\u001b[0m \u001b[1m1s\u001b[0m 28ms/step - accuracy: 0.8178 - loss: 0.4080 - val_accuracy: 0.7226 - val_loss: 0.6352\n",
      "Epoch 3/100\n",
      "\u001b[1m39/39\u001b[0m \u001b[32m━━━━━━━━━━━━━━━━━━━━\u001b[0m\u001b[37m\u001b[0m \u001b[1m1s\u001b[0m 20ms/step - accuracy: 0.7998 - loss: 0.4190 - val_accuracy: 0.7226 - val_loss: 0.6410\n",
      "Epoch 4/100\n",
      "\u001b[1m39/39\u001b[0m \u001b[32m━━━━━━━━━━━━━━━━━━━━\u001b[0m\u001b[37m\u001b[0m \u001b[1m1s\u001b[0m 19ms/step - accuracy: 0.8064 - loss: 0.4174 - val_accuracy: 0.7226 - val_loss: 0.6116\n",
      "Epoch 5/100\n",
      "\u001b[1m39/39\u001b[0m \u001b[32m━━━━━━━━━━━━━━━━━━━━\u001b[0m\u001b[37m\u001b[0m \u001b[1m1s\u001b[0m 20ms/step - accuracy: 0.8072 - loss: 0.4103 - val_accuracy: 0.7080 - val_loss: 0.6458\n",
      "Epoch 6/100\n",
      "\u001b[1m39/39\u001b[0m \u001b[32m━━━━━━━━━━━━━━━━━━━━\u001b[0m\u001b[37m\u001b[0m \u001b[1m1s\u001b[0m 22ms/step - accuracy: 0.8056 - loss: 0.4017 - val_accuracy: 0.7226 - val_loss: 0.6211\n",
      "Epoch 7/100\n",
      "\u001b[1m39/39\u001b[0m \u001b[32m━━━━━━━━━━━━━━━━━━━━\u001b[0m\u001b[37m\u001b[0m \u001b[1m1s\u001b[0m 26ms/step - accuracy: 0.8080 - loss: 0.4049 - val_accuracy: 0.7299 - val_loss: 0.6327\n",
      "Epoch 8/100\n",
      "\u001b[1m39/39\u001b[0m \u001b[32m━━━━━━━━━━━━━━━━━━━━\u001b[0m\u001b[37m\u001b[0m \u001b[1m1s\u001b[0m 18ms/step - accuracy: 0.8162 - loss: 0.3854 - val_accuracy: 0.7080 - val_loss: 0.6343\n",
      "Epoch 9/100\n",
      "\u001b[1m39/39\u001b[0m \u001b[32m━━━━━━━━━━━━━━━━━━━━\u001b[0m\u001b[37m\u001b[0m \u001b[1m1s\u001b[0m 22ms/step - accuracy: 0.8162 - loss: 0.3939 - val_accuracy: 0.7226 - val_loss: 0.6751\n",
      "\\nTreino concluído!\n"
     ]
    }
   ],
   "source": [
    "# CÉLULA 8 (MODIFICADA): Treinar o modelo com Early Stopping\n",
    "\n",
    "# Como os nossos labels são -1, 0, 1, precisamos de os ajustar para 0, 1, 2\n",
    "y_train_adj = y_train_seq + 1\n",
    "y_test_adj = y_test_seq + 1\n",
    "\n",
    "# Configurar o Early Stopping\n",
    "# - monitor='val_loss': Observar a perda nos dados de validação.\n",
    "# - patience=5: Número de épocas sem melhoria antes de parar o treino.\n",
    "# - restore_best_weights=True: No final, restaurar os pesos do modelo da melhor época.\n",
    "early_stopping = EarlyStopping(monitor='val_loss', patience=5, restore_best_weights=True)\n",
    "\n",
    "# Aumentar o número de épocas para dar espaço ao Early Stopping para funcionar\n",
    "EPOCHS = 100\n",
    "\n",
    "# Treinar o modelo, agora passando o callback de early stopping\n",
    "history = model.fit(\n",
    "    X_train_seq, y_train_adj,\n",
    "    epochs=EPOCHS,\n",
    "    batch_size=32,\n",
    "    validation_split=0.1,\n",
    "    callbacks=[early_stopping], # <-- ADICIONADO\n",
    "    verbose=1\n",
    ")\n",
    "\n",
    "print(\"\\\\nTreino concluído!\")\n"
   ]
  },
  {
   "cell_type": "code",
   "execution_count": 13,
   "id": "5b9f1fe3-fb85-4b44-aaac-e3ec017fa4b6",
   "metadata": {},
   "outputs": [
    {
     "data": {
      "image/png": "[encoded data removed]",
      "text/plain": [
       "<Figure size 1200x1200 with 2 Axes>"
      ]
     },
     "metadata": {},
     "output_type": "display_data"
    }
   ],
   "source": [
    "# CÉLULA 9 (CORRIGIDA): Plotar o histórico de treino\n",
    "\n",
    "# Importar a biblioteca de plotagem AQUI MESMO para garantir que ela existe\n",
    "import matplotlib.pyplot as plt\n",
    "\n",
    "# Criar uma figura com dois subplots\n",
    "fig, (ax1, ax2) = plt.subplots(2, 1, figsize=(12, 12))\n",
    "\n",
    "# Plotar a acurácia\n",
    "ax1.plot(history.history['accuracy'], label='Acurácia de Treino')\n",
    "ax1.plot(history.history['val_accuracy'], label='Acurácia de Validação')\n",
    "ax1.set_title('Histórico de Acurácia do Modelo')\n",
    "ax1.set_ylabel('Acurácia')\n",
    "ax1.set_xlabel('Época')\n",
    "ax1.legend(loc='lower right')\n",
    "\n",
    "# Plotar a perda (loss)\n",
    "ax2.plot(history.history['loss'], label='Perda de Treino')\n",
    "ax2.plot(history.history['val_loss'], label='Perda de Validação')\n",
    "ax2.set_title('Histórico de Perda do Modelo')\n",
    "ax2.set_ylabel('Perda')\n",
    "ax2.set_xlabel('Época')\n",
    "ax2.legend(loc='upper right')\n",
    "\n",
    "plt.tight_layout()\n",
    "plt.show()\n"
   ]
  },
  {
   "cell_type": "code",
   "execution_count": 14,
   "id": "5a5b8e53-3d57-4cd4-9253-f8a43d7cbbc8",
   "metadata": {},
   "outputs": [
    {
     "name": "stdout",
     "output_type": "stream",
     "text": [
      "--- Avaliação Final no Conjunto de Teste ---\n",
      "Perda (Loss) no Teste: 1.1242\n",
      "Acurácia (Accuracy) no Teste: 0.6588 (ou 65.88%)\n"
     ]
    }
   ],
   "source": [
    "# CÉLULA 10: Avaliar o modelo no conjunto de teste\n",
    "\n",
    "# Fazer a avaliação final\n",
    "loss, accuracy = model.evaluate(X_test_seq, y_test_adj, verbose=0)\n",
    "\n",
    "print(\"--- Avaliação Final no Conjunto de Teste ---\")\n",
    "print(f\"Perda (Loss) no Teste: {loss:.4f}\")\n",
    "print(f\"Acurácia (Accuracy) no Teste: {accuracy:.4f} (ou {accuracy*100:.2f}%)\")\n"
   ]
  },
  {
   "cell_type": "code",
   "execution_count": 18,
   "id": "3ad1c5d0-1a66-4d65-828e-a43d74e66bfb",
   "metadata": {},
   "outputs": [
    {
     "name": "stderr",
     "output_type": "stream",
     "text": [
      "WARNING:absl:You are saving your model as an HDF5 file via `model.save()` or `keras.saving.save_model(model)`. This file format is considered legacy. We recommend using instead the native Keras format, e.g. `model.save('my_model.keras')` or `keras.saving.save_model(model, 'my_model.keras')`. \n"
     ]
    },
    {
     "name": "stdout",
     "output_type": "stream",
     "text": [
      "Modelo guardado em: ../models/oracle_lstm_v1.h5\n",
      "Scaler guardado em: ../models/scaler_v1.pkl\n"
     ]
    }
   ],
   "source": [
    "# CÉLULA 11 (CORRIGIDA): Guardar o modelo e o scaler\n",
    "\n",
    "import joblib\n",
    "import os # <-- IMPORTAÇÃO ADICIONADA AQUI\n",
    "\n",
    "# Definir os caminhos para guardar\n",
    "model_path = '../models/oracle_lstm_v1.h5'\n",
    "scaler_path = '../models/scaler_v1.pkl'\n",
    "\n",
    "# Criar a pasta 'models' se ela não existir\n",
    "os.makedirs(os.path.dirname(model_path), exist_ok=True)\n",
    "\n",
    "# Guardar o modelo do TensorFlow\n",
    "model.save(model_path)\n",
    "\n",
    "# Guardar o scaler do Scikit-learn\n",
    "joblib.dump(scaler, scaler_path)\n",
    "\n",
    "print(f\"Modelo guardado em: {model_path}\")\n",
    "print(f\"Scaler guardado em: {scaler_path}\")\n"
   ]
  },
  {
   "cell_type": "code",
   "execution_count": null,
   "id": "3b777832-47d4-4f2d-8882-58a564b62780",
   "metadata": {},
   "outputs": [],
   "source": []
  }
 ],
 "metadata": {
  "kernelspec": {
   "display_name": "Python 3 (ipykernel)",
   "language": "python",
   "name": "python3"
  },
  "language_info": {
   "codemirror_mode": {
    "name": "ipython",
    "version": 3
   },
   "file_extension": ".py",
   "mimetype": "text/x-python",
   "name": "python",
   "nbconvert_exporter": "python",
   "pygments_lexer": "ipython3",
   "version": "3.12.11"
  }
 },
 "nbformat": 4,
 "nbformat_minor": 5
}
