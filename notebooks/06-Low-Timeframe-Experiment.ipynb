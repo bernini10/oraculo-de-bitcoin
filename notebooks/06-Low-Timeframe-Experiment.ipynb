{
 "cells": [
  {
   "cell_type": "code",
   "execution_count": 3,
   "id": "f24acb2b-cf49-4cf4-8acf-ebd3b42023a0",
   "metadata": {},
   "outputs": [
    {
     "name": "stdout",
     "output_type": "stream",
     "text": [
      "Função 'add_all_features' atualizada com ATR.\n"
     ]
    }
   ],
   "source": [
    "# CÉLULA 1 (ATUALIZADA)\n",
    "\n",
    "# --- FUNÇÕES ---\n",
    "def add_all_features(df):\n",
    "    # --- INDICADORES TÉCNICOS ---\n",
    "    df['sma_20'] = df['close'].rolling(window=20).mean()\n",
    "    df['ema_20'] = df['close'].ewm(span=20, adjust=False).mean()\n",
    "    \n",
    "    delta = df['close'].diff()\n",
    "    gain = (delta.where(delta > 0, 0)).rolling(window=14).mean()\n",
    "    loss = (-delta.where(delta < 0, 0)).rolling(window=14).mean()\n",
    "    rs = gain / loss\n",
    "    df['rsi_14'] = 100 - (100 / (1 + rs))\n",
    "    \n",
    "    df['bollinger_upper'] = df['sma_20'] + (df['close'].rolling(window=20).std() * 2)\n",
    "    df['bollinger_lower'] = df['sma_20'] - (df['close'].rolling(window=20).std() * 2)\n",
    "    \n",
    "    ema_12 = df['close'].ewm(span=12, adjust=False).mean()\n",
    "    ema_26 = df['close'].ewm(span=26, adjust=False).mean()\n",
    "    df['macd'] = ema_12 - ema_26\n",
    "    df['macd_signal'] = df['macd'].ewm(span=9, adjust=False).mean()\n",
    "    \n",
    "    # --- NOVA FEATURE: ATR (Average True Range) ---\n",
    "    high_low = df['high'] - df['low']\n",
    "    high_close = np.abs(df['high'] - df['close'].shift())\n",
    "    low_close = np.abs(df['low'] - df['close'].shift())\n",
    "    ranges = pd.concat([high_low, high_close, low_close], axis=1)\n",
    "    true_range = np.max(ranges, axis=1)\n",
    "    df['atr_14'] = true_range.rolling(14).mean()\n",
    "    \n",
    "    # --- FEATURE DE RETORNO ---\n",
    "    df['daily_return'] = df['close'].pct_change()\n",
    "    \n",
    "    # --- FEATURES DE TEMPO ---\n",
    "    df['day_of_week'] = df.index.dayofweek.astype(float)\n",
    "    df['day_of_month'] = df.index.day.astype(float)\n",
    "    df['week_of_year'] = df.index.isocalendar().week.astype(float)\n",
    "    df['month'] = df.index.month.astype(float)\n",
    "    \n",
    "    # Remover linhas com NaN resultantes dos cálculos de indicadores\n",
    "    return df.dropna()\n",
    "\n",
    "# O resto das funções (create_labels, create_sequences) permanece igual.\n",
    "# ...\n",
    "\n",
    "print(\"Função 'add_all_features' atualizada com ATR.\")\n"
   ]
  },
  {
   "cell_type": "code",
   "execution_count": 2,
   "id": "1040e773-8724-43b2-9297-5956279e457b",
   "metadata": {},
   "outputs": [
    {
     "name": "stdout",
     "output_type": "stream",
     "text": [
      "\\n--- INICIANDO TESTE COM: Alvo=0.50%, Stop=0.25% ---\n"
     ]
    },
    {
     "name": "stderr",
     "output_type": "stream",
     "text": [
      "2025-09-20 17:11:55.411821: I metal_plugin/src/device/metal_device.cc:1154] Metal device set to: Apple M3\n",
      "2025-09-20 17:11:55.413863: I metal_plugin/src/device/metal_device.cc:296] systemMemory: 8.00 GB\n",
      "2025-09-20 17:11:55.415184: I metal_plugin/src/device/metal_device.cc:313] maxCacheSize: 2.67 GB\n",
      "2025-09-20 17:11:55.416536: I tensorflow/core/common_runtime/pluggable_device/pluggable_device_factory.cc:305] Could not identify NUMA node of platform GPU ID 0, defaulting to 0. Your kernel may not have been built with NUMA support.\n",
      "2025-09-20 17:11:55.418389: I tensorflow/core/common_runtime/pluggable_device/pluggable_device_factory.cc:271] Created TensorFlow device (/job:localhost/replica:0/task:0/device:GPU:0 with 0 MB memory) -> physical PluggableDevice (device: 0, name: METAL, pci bus id: <undefined>)\n",
      "/Users/marianobernini/miniconda/envs/botenv/lib/python3.12/site-packages/keras/src/layers/rnn/rnn.py:199: UserWarning: Do not pass an `input_shape`/`input_dim` argument to a layer. When using Sequential models, prefer using an `Input(shape)` object as the first layer in the model instead.\n",
      "  super().__init__(**kwargs)\n",
      "2025-09-20 17:12:02.188823: I tensorflow/core/grappler/optimizers/custom_graph_optimizer_registry.cc:117] Plugin optimizer for device_type GPU is enabled.\n"
     ]
    },
    {
     "name": "stdout",
     "output_type": "stream",
     "text": [
      "\u001b[1m1091/1091\u001b[0m \u001b[32m━━━━━━━━━━━━━━━━━━━━\u001b[0m\u001b[37m\u001b[0m \u001b[1m19s\u001b[0m 18ms/step\n",
      "  Resultado da Estratégia: 0.00%\n",
      "\\n--- INICIANDO TESTE COM: Alvo=0.50%, Stop=0.50% ---\n"
     ]
    },
    {
     "name": "stderr",
     "output_type": "stream",
     "text": [
      "/Users/marianobernini/miniconda/envs/botenv/lib/python3.12/site-packages/keras/src/layers/rnn/rnn.py:199: UserWarning: Do not pass an `input_shape`/`input_dim` argument to a layer. When using Sequential models, prefer using an `Input(shape)` object as the first layer in the model instead.\n",
      "  super().__init__(**kwargs)\n"
     ]
    },
    {
     "name": "stdout",
     "output_type": "stream",
     "text": [
      "\u001b[1m1091/1091\u001b[0m \u001b[32m━━━━━━━━━━━━━━━━━━━━\u001b[0m\u001b[37m\u001b[0m \u001b[1m18s\u001b[0m 16ms/step\n",
      "  Resultado da Estratégia: 0.00%\n",
      "\\n--- INICIANDO TESTE COM: Alvo=0.50%, Stop=0.75% ---\n"
     ]
    },
    {
     "name": "stderr",
     "output_type": "stream",
     "text": [
      "/Users/marianobernini/miniconda/envs/botenv/lib/python3.12/site-packages/keras/src/layers/rnn/rnn.py:199: UserWarning: Do not pass an `input_shape`/`input_dim` argument to a layer. When using Sequential models, prefer using an `Input(shape)` object as the first layer in the model instead.\n",
      "  super().__init__(**kwargs)\n"
     ]
    },
    {
     "name": "stdout",
     "output_type": "stream",
     "text": [
      "\u001b[1m1091/1091\u001b[0m \u001b[32m━━━━━━━━━━━━━━━━━━━━\u001b[0m\u001b[37m\u001b[0m \u001b[1m19s\u001b[0m 16ms/step\n",
      "  Resultado da Estratégia: 0.00%\n",
      "\\n--- INICIANDO TESTE COM: Alvo=1.00%, Stop=0.25% ---\n"
     ]
    },
    {
     "name": "stderr",
     "output_type": "stream",
     "text": [
      "/Users/marianobernini/miniconda/envs/botenv/lib/python3.12/site-packages/keras/src/layers/rnn/rnn.py:199: UserWarning: Do not pass an `input_shape`/`input_dim` argument to a layer. When using Sequential models, prefer using an `Input(shape)` object as the first layer in the model instead.\n",
      "  super().__init__(**kwargs)\n"
     ]
    },
    {
     "name": "stdout",
     "output_type": "stream",
     "text": [
      "\u001b[1m1091/1091\u001b[0m \u001b[32m━━━━━━━━━━━━━━━━━━━━\u001b[0m\u001b[37m\u001b[0m \u001b[1m16s\u001b[0m 15ms/step\n",
      "  Resultado da Estratégia: 0.00%\n",
      "\\n--- INICIANDO TESTE COM: Alvo=1.00%, Stop=0.50% ---\n"
     ]
    },
    {
     "name": "stderr",
     "output_type": "stream",
     "text": [
      "/Users/marianobernini/miniconda/envs/botenv/lib/python3.12/site-packages/keras/src/layers/rnn/rnn.py:199: UserWarning: Do not pass an `input_shape`/`input_dim` argument to a layer. When using Sequential models, prefer using an `Input(shape)` object as the first layer in the model instead.\n",
      "  super().__init__(**kwargs)\n"
     ]
    },
    {
     "name": "stdout",
     "output_type": "stream",
     "text": [
      "\u001b[1m1091/1091\u001b[0m \u001b[32m━━━━━━━━━━━━━━━━━━━━\u001b[0m\u001b[37m\u001b[0m \u001b[1m17s\u001b[0m 15ms/step\n",
      "  Resultado da Estratégia: 0.00%\n",
      "\\n--- INICIANDO TESTE COM: Alvo=1.00%, Stop=0.75% ---\n"
     ]
    },
    {
     "name": "stderr",
     "output_type": "stream",
     "text": [
      "/Users/marianobernini/miniconda/envs/botenv/lib/python3.12/site-packages/keras/src/layers/rnn/rnn.py:199: UserWarning: Do not pass an `input_shape`/`input_dim` argument to a layer. When using Sequential models, prefer using an `Input(shape)` object as the first layer in the model instead.\n",
      "  super().__init__(**kwargs)\n"
     ]
    },
    {
     "name": "stdout",
     "output_type": "stream",
     "text": [
      "\u001b[1m1091/1091\u001b[0m \u001b[32m━━━━━━━━━━━━━━━━━━━━\u001b[0m\u001b[37m\u001b[0m \u001b[1m14s\u001b[0m 13ms/step\n",
      "  Resultado da Estratégia: 0.00%\n",
      "\\n--- INICIANDO TESTE COM: Alvo=1.50%, Stop=0.25% ---\n"
     ]
    },
    {
     "name": "stderr",
     "output_type": "stream",
     "text": [
      "/Users/marianobernini/miniconda/envs/botenv/lib/python3.12/site-packages/keras/src/layers/rnn/rnn.py:199: UserWarning: Do not pass an `input_shape`/`input_dim` argument to a layer. When using Sequential models, prefer using an `Input(shape)` object as the first layer in the model instead.\n",
      "  super().__init__(**kwargs)\n"
     ]
    },
    {
     "name": "stdout",
     "output_type": "stream",
     "text": [
      "\u001b[1m1091/1091\u001b[0m \u001b[32m━━━━━━━━━━━━━━━━━━━━\u001b[0m\u001b[37m\u001b[0m \u001b[1m19s\u001b[0m 17ms/step\n",
      "  Resultado da Estratégia: 0.00%\n",
      "\\n--- INICIANDO TESTE COM: Alvo=1.50%, Stop=0.50% ---\n"
     ]
    },
    {
     "name": "stderr",
     "output_type": "stream",
     "text": [
      "/Users/marianobernini/miniconda/envs/botenv/lib/python3.12/site-packages/keras/src/layers/rnn/rnn.py:199: UserWarning: Do not pass an `input_shape`/`input_dim` argument to a layer. When using Sequential models, prefer using an `Input(shape)` object as the first layer in the model instead.\n",
      "  super().__init__(**kwargs)\n"
     ]
    },
    {
     "name": "stdout",
     "output_type": "stream",
     "text": [
      "\u001b[1m1091/1091\u001b[0m \u001b[32m━━━━━━━━━━━━━━━━━━━━\u001b[0m\u001b[37m\u001b[0m \u001b[1m17s\u001b[0m 15ms/step\n",
      "  Resultado da Estratégia: 0.00%\n",
      "\\n--- INICIANDO TESTE COM: Alvo=1.50%, Stop=0.75% ---\n"
     ]
    },
    {
     "name": "stderr",
     "output_type": "stream",
     "text": [
      "/Users/marianobernini/miniconda/envs/botenv/lib/python3.12/site-packages/keras/src/layers/rnn/rnn.py:199: UserWarning: Do not pass an `input_shape`/`input_dim` argument to a layer. When using Sequential models, prefer using an `Input(shape)` object as the first layer in the model instead.\n",
      "  super().__init__(**kwargs)\n"
     ]
    },
    {
     "name": "stdout",
     "output_type": "stream",
     "text": [
      "\u001b[1m1091/1091\u001b[0m \u001b[32m━━━━━━━━━━━━━━━━━━━━\u001b[0m\u001b[37m\u001b[0m \u001b[1m19s\u001b[0m 17ms/step\n",
      "  Resultado da Estratégia: 0.00%\n",
      "\\n--- TABELA DE RESULTADOS DA OTIMIZAÇÃO (15m) ---\n"
     ]
    },
    {
     "data": {
      "text/html": [
       "<div>\n",
       "<style scoped>\n",
       "    .dataframe tbody tr th:only-of-type {\n",
       "        vertical-align: middle;\n",
       "    }\n",
       "\n",
       "    .dataframe tbody tr th {\n",
       "        vertical-align: top;\n",
       "    }\n",
       "\n",
       "    .dataframe thead th {\n",
       "        text-align: right;\n",
       "    }\n",
       "</style>\n",
       "<table border=\"1\" class=\"dataframe\">\n",
       "  <thead>\n",
       "    <tr style=\"text-align: right;\">\n",
       "      <th></th>\n",
       "      <th>profit_target</th>\n",
       "      <th>stop_loss</th>\n",
       "      <th>strategy_return</th>\n",
       "    </tr>\n",
       "  </thead>\n",
       "  <tbody>\n",
       "    <tr>\n",
       "      <th>0</th>\n",
       "      <td>0.005</td>\n",
       "      <td>0.0025</td>\n",
       "      <td>0.0</td>\n",
       "    </tr>\n",
       "    <tr>\n",
       "      <th>1</th>\n",
       "      <td>0.005</td>\n",
       "      <td>0.0050</td>\n",
       "      <td>0.0</td>\n",
       "    </tr>\n",
       "    <tr>\n",
       "      <th>2</th>\n",
       "      <td>0.005</td>\n",
       "      <td>0.0075</td>\n",
       "      <td>0.0</td>\n",
       "    </tr>\n",
       "    <tr>\n",
       "      <th>3</th>\n",
       "      <td>0.010</td>\n",
       "      <td>0.0025</td>\n",
       "      <td>0.0</td>\n",
       "    </tr>\n",
       "    <tr>\n",
       "      <th>4</th>\n",
       "      <td>0.010</td>\n",
       "      <td>0.0050</td>\n",
       "      <td>0.0</td>\n",
       "    </tr>\n",
       "    <tr>\n",
       "      <th>5</th>\n",
       "      <td>0.010</td>\n",
       "      <td>0.0075</td>\n",
       "      <td>0.0</td>\n",
       "    </tr>\n",
       "    <tr>\n",
       "      <th>6</th>\n",
       "      <td>0.015</td>\n",
       "      <td>0.0025</td>\n",
       "      <td>0.0</td>\n",
       "    </tr>\n",
       "    <tr>\n",
       "      <th>7</th>\n",
       "      <td>0.015</td>\n",
       "      <td>0.0050</td>\n",
       "      <td>0.0</td>\n",
       "    </tr>\n",
       "    <tr>\n",
       "      <th>8</th>\n",
       "      <td>0.015</td>\n",
       "      <td>0.0075</td>\n",
       "      <td>0.0</td>\n",
       "    </tr>\n",
       "  </tbody>\n",
       "</table>\n",
       "</div>"
      ],
      "text/plain": [
       "   profit_target  stop_loss  strategy_return\n",
       "0          0.005     0.0025              0.0\n",
       "1          0.005     0.0050              0.0\n",
       "2          0.005     0.0075              0.0\n",
       "3          0.010     0.0025              0.0\n",
       "4          0.010     0.0050              0.0\n",
       "5          0.010     0.0075              0.0\n",
       "6          0.015     0.0025              0.0\n",
       "7          0.015     0.0050              0.0\n",
       "8          0.015     0.0075              0.0"
      ]
     },
     "metadata": {},
     "output_type": "display_data"
    }
   ],
   "source": [
    "# CÉLULA 2: Loop de Otimização para o Timeframe de 15m\n",
    "\n",
    "# --- PARÂMETROS GERAIS ---\n",
    "LOOK_FORWARD = 48      # Olhar 12 horas para a frente\n",
    "TIME_STEPS = 120       # Usar as últimas 30 horas de dados\n",
    "CONFIDENCE = 0.75      # Limiar de confiança\n",
    "\n",
    "# --- PARÂMETROS PARA OTIMIZAR ---\n",
    "profit_targets = [0.005, 0.01, 0.015]  # Alvos de 0.5%, 1.0%, 1.5%\n",
    "stop_losses = [0.0025, 0.005, 0.0075] # Stops de 0.25%, 0.5%, 0.75%\n",
    "\n",
    "# Lista para guardar os resultados\n",
    "results = []\n",
    "\n",
    "# Carregar os dados uma única vez\n",
    "btc_df_raw = pd.read_feather('../user_data/data/binance/BTC_USDT-15m.feather')\n",
    "btc_df_raw['date'] = pd.to_datetime(btc_df_raw['date'])\n",
    "btc_df_raw.set_index('date', inplace=True)\n",
    "\n",
    "# --- INÍCIO DO LOOP ---\n",
    "for pt in profit_targets:\n",
    "    for sl in stop_losses:\n",
    "        print(f\"\\\\n--- INICIANDO TESTE COM: Alvo={pt*100:.2f}%, Stop={sl*100:.2f}% ---\")\n",
    "        \n",
    "        # 1. PREPARAÇÃO DOS DADOS (dentro do loop)\n",
    "        df_labeled = create_labels(btc_df_raw.copy(), LOOK_FORWARD, pt, sl)\n",
    "        df_featured = add_all_features(df_labeled)\n",
    "        \n",
    "        y = df_featured['label']\n",
    "        X = df_featured.drop(columns=['label', 'open', 'high', 'low', 'close', 'future_price', 'price_change'])\n",
    "        \n",
    "        X_train, X_test, y_train, y_test = train_test_split(X, y, test_size=0.2, shuffle=False)\n",
    "        \n",
    "        scaler = StandardScaler()\n",
    "        X_train_scaled = scaler.fit_transform(X_train)\n",
    "        X_test_scaled = scaler.transform(X_test)\n",
    "        \n",
    "        X_train_seq, y_train_seq = create_sequences(X_train_scaled, y_train.values, TIME_STEPS)\n",
    "        X_test_seq, y_test_seq = create_sequences(X_test_scaled, y_test.values, TIME_STEPS)\n",
    "        \n",
    "        y_train_adj = y_train_seq + 1\n",
    "\n",
    "        # 2. TREINO DO MODELO (dentro do loop)\n",
    "        model = Sequential([\n",
    "            LSTM(units=128, return_sequences=True, input_shape=(X_train_seq.shape[1], X_train_seq.shape[2])),\n",
    "            Dropout(0.3),\n",
    "            LSTM(units=64, return_sequences=True),\n",
    "            Dropout(0.3),\n",
    "            LSTM(units=32, return_sequences=False),\n",
    "            Dropout(0.3),\n",
    "            Dense(units=3, activation='softmax')\n",
    "        ])\n",
    "        model.compile(optimizer='adam', loss='sparse_categorical_crossentropy', metrics=['accuracy'])\n",
    "        early_stopping = EarlyStopping(monitor='val_loss', patience=5, restore_best_weights=True)\n",
    "        \n",
    "        model.fit(X_train_seq, y_train_adj, epochs=50, batch_size=64, validation_split=0.1, callbacks=[early_stopping], verbose=0) # verbose=0 para um output mais limpo\n",
    "\n",
    "        # 3. BACKTESTING (dentro do loop)\n",
    "        predictions_test = model.predict(X_test_seq)\n",
    "        \n",
    "        start_index = len(X_train) + TIME_STEPS\n",
    "        test_prices = df_featured['close'].iloc[start_index:]\n",
    "        backtest_df = pd.DataFrame({'market_return': test_prices.pct_change()})\n",
    "        \n",
    "        backtest_df['signal'] = 0\n",
    "        backtest_df.loc[predictions_test[:, 2] > CONFIDENCE, 'signal'] = 1\n",
    "        backtest_df.loc[predictions_test[:, 0] > CONFIDENCE, 'signal'] = -1\n",
    "        \n",
    "        backtest_df['strategy_return'] = backtest_df['market_return'] * backtest_df['signal'].shift(1)\n",
    "        \n",
    "        cumulative_return = (1 + backtest_df['strategy_return']).prod() - 1\n",
    "        \n",
    "        # Guardar o resultado\n",
    "        results.append({\n",
    "            'profit_target': pt,\n",
    "            'stop_loss': sl,\n",
    "            'strategy_return': cumulative_return * 100\n",
    "        })\n",
    "        print(f\"  Resultado da Estratégia: {cumulative_return * 100:.2f}%\")\n",
    "\n",
    "# --- FIM DO LOOP ---\n",
    "\n",
    "# 4. RESULTADOS FINAIS\n",
    "print(\"\\\\n--- TABELA DE RESULTADOS DA OTIMIZAÇÃO (15m) ---\")\n",
    "results_df = pd.DataFrame(results)\n",
    "display(results_df.sort_values(by='strategy_return', ascending=False))\n"
   ]
  },
  {
   "cell_type": "code",
   "execution_count": null,
   "id": "2cb1957b-776d-4e60-8ee1-448769bc6aec",
   "metadata": {},
   "outputs": [],
   "source": []
  }
 ],
 "metadata": {
  "kernelspec": {
   "display_name": "Python 3 (ipykernel)",
   "language": "python",
   "name": "python3"
  },
  "language_info": {
   "codemirror_mode": {
    "name": "ipython",
    "version": 3
   },
   "file_extension": ".py",
   "mimetype": "text/x-python",
   "name": "python",
   "nbconvert_exporter": "python",
   "pygments_lexer": "ipython3",
   "version": "3.12.11"
  }
 },
 "nbformat": 4,
 "nbformat_minor": 5
}
